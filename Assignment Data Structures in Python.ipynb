{
 "cells": [
  {
   "cell_type": "code",
   "execution_count": null,
   "id": "18c700a3",
   "metadata": {},
   "outputs": [],
   "source": [
    "# 1. Write a code to reverse a string\n",
    "\n",
    "str1 = input(\"Enter a string :\")\n",
    "x = str1[::-1]\n",
    "print(x)"
   ]
  },
  {
   "cell_type": "code",
   "execution_count": null,
   "id": "79681624",
   "metadata": {},
   "outputs": [],
   "source": [
    "# 2. Write a code to count the number of vowels in a string\n",
    "\n",
    "str2 = input(\"Enter a string: \")\n",
    "count = 0\n",
    "vowels = \"aeiouAEIOU\"\n",
    "for i in str1:\n",
    "    if i.lower() in vowels:\n",
    "        count += 1\n",
    "print(\"The number of vowels in the given string is\", count)\n",
    "\n"
   ]
  },
  {
   "cell_type": "code",
   "execution_count": null,
   "id": "48918611",
   "metadata": {},
   "outputs": [],
   "source": [
    "# 3. Write a code to check if the given string is palindrome or not \n",
    "\n",
    "str3 = input(\"Enter a string: \")\n",
    "\n",
    "if str3[0::] == str3[::-1]:\n",
    "    print(\"The given string is palindrome\")\n",
    "\n",
    "else:\n",
    "    print(\"The given string is not palindrome\")"
   ]
  },
  {
   "cell_type": "code",
   "execution_count": null,
   "id": "b7e4cf9b",
   "metadata": {},
   "outputs": [],
   "source": [
    "# 4. Write a code to check if two given strings are anagrams of each other \n",
    "\n",
    "str4 = input(\"Enter a first string: \")\n",
    "str5 = input(\"Enter a second string: \")\n",
    "\n",
    "str4 = str4.replace(\" \", \"\")\n",
    "str5 = str5.replace(\" \", \"\")\n",
    "\n",
    "if sorted(str4) == sorted(str5):\n",
    "    print(\"The given two strings are anagrams of each other\")\n",
    "else:\n",
    "    print(\"The given two strings are not anagrams of each other\")"
   ]
  },
  {
   "cell_type": "code",
   "execution_count": null,
   "id": "665aa964",
   "metadata": {},
   "outputs": [],
   "source": [
    "# 5. Find all occurrences of a given substring in a string\n",
    "\n",
    "occ = []\n",
    "str6 = input(\"Enter a string: \")\n",
    "str7 = input(\"Enter a substring: \")\n",
    "\n",
    "index = str6.find(str7, 0)\n",
    "while index != -1:\n",
    "    occ.append(index)\n",
    "    index = str6.find(str7, index + 1)\n",
    "\n",
    "print(occ)\n"
   ]
  },
  {
   "cell_type": "code",
   "execution_count": 31,
   "id": "9b6ca6c8",
   "metadata": {},
   "outputs": [
    {
     "name": "stdout",
     "output_type": "stream",
     "text": [
      "Enter a string: aaaaa bbbb cccc \n",
      "Compressed string: a5 1b4 1c4 1\n"
     ]
    }
   ],
   "source": [
    "# 6. Write a code to perform to basic string compression using the counts of repeated characters\n",
    "\n",
    "input_string = input(\"Enter a string: \")\n",
    "compressed_string = \"\"\n",
    "count = 1\n",
    "\n",
    "for i in range(len(input_string)):\n",
    "    if i + 1 < len(input_string) and input_string[i] == input_string[i + 1]:\n",
    "        count += 1\n",
    "    else:\n",
    "        compressed_string += input_string[i] + str(count)\n",
    "        count = 1 \n",
    "        \n",
    "if len(compressed_string) >= len(input_string):\n",
    "    print(\"Compressed string:\", input_string)\n",
    "else:\n",
    "    print(\"Compressed string:\", compressed_string)\n",
    "\n"
   ]
  },
  {
   "cell_type": "code",
   "execution_count": null,
   "id": "bb393874",
   "metadata": {
    "scrolled": true
   },
   "outputs": [],
   "source": [
    "# 7. Write a code to determine if a string has all unique characters\n",
    "\n",
    "string = input(\"Enter a string: \")\n",
    "has_repeated = False\n",
    "\n",
    "for char in string:\n",
    "    if string.count(char) > 1:\n",
    "        has_repeated = True\n",
    "        break\n",
    "\n",
    "if has_repeated:\n",
    "    print(\"The given string does not have all unique characters\")\n",
    "else:\n",
    "    print(\"The given string has all unique characters\")\n"
   ]
  },
  {
   "cell_type": "code",
   "execution_count": null,
   "id": "0490584d",
   "metadata": {},
   "outputs": [],
   "source": [
    "# 8. Write a code to convert a given string to uppercase or lowercase\n",
    "\n",
    "str8 = input(\"Enter a string: \")\n",
    "if str8 == str8.upper():\n",
    "    print(str8.lower())\n",
    "elif str8 == str8.lower():\n",
    "    print(str8.upper())\n",
    "else:\n",
    "    print(str8)"
   ]
  },
  {
   "cell_type": "code",
   "execution_count": null,
   "id": "cfaa0c67",
   "metadata": {},
   "outputs": [],
   "source": [
    "# 9. Write a code to count the number of words in a string\n",
    "\n",
    "str9 = input(\"Enter a string: \")\n",
    "word_count = len(str9.split())\n",
    "print(\"Number of words in the string:\", word_count)\n",
    "\n"
   ]
  },
  {
   "cell_type": "code",
   "execution_count": null,
   "id": "148ab3f6",
   "metadata": {},
   "outputs": [],
   "source": [
    "# 10. Write a code to concatenate two strings without using + operator\n",
    "\n",
    "string1 = input(\"Enter a string 1: \")\n",
    "string2 = input(\"Enter a string 2: \")\n",
    "\n",
    "list_1 = list(string1)\n",
    "list_2 = list(string2)\n",
    "\n",
    "list_1.extend(list_2)\n",
    "concatenated_string = ''.join(list_1)\n",
    "print(\"Concatenated String: \", concatenated_string)\n"
   ]
  },
  {
   "cell_type": "code",
   "execution_count": 9,
   "id": "daf29270",
   "metadata": {},
   "outputs": [
    {
     "name": "stdout",
     "output_type": "stream",
     "text": [
      "Enter the element to remove: 4\n",
      "[1, 2, 3, 5]\n",
      "Enter the element to remove: 4\n",
      "List after removing all occurrences of 4 : [1, 2, 3, 5]\n"
     ]
    }
   ],
   "source": [
    "# 11. Write a code to remove all occurrences of a specific element from a list\n",
    "\n",
    "lis1 = [1, 2, 3, 4, 4, 4, 4, 5]\n",
    "element_to_remove = int(input(\"Enter the element to remove: \"))\n",
    "lis1 = [x for x in lis1 if x != element_to_remove]\n",
    "print(lis1)\n",
    "\n",
    "# OR\n",
    "\n",
    "lis1 = [1, 2, 3, 4, 4, 4, 4, 5]\n",
    "element_to_remove = int(input(\"Enter the element to remove: \"))\n",
    "while element_to_remove in lis1:\n",
    "    lis1.remove(element_to_remove)\n",
    "\n",
    "print(\"List after removing all occurrences of\", element_to_remove, \":\", lis1)\n",
    "\n"
   ]
  },
  {
   "cell_type": "code",
   "execution_count": 15,
   "id": "e4e424bf",
   "metadata": {},
   "outputs": [
    {
     "name": "stdout",
     "output_type": "stream",
     "text": [
      "The second largest number in a given list of integers is:  9\n"
     ]
    }
   ],
   "source": [
    "# 12. Implement a code to find the second largest number in a given list of integers\n",
    "\n",
    "lis2 = [1, 2, 3, 8, 9, 10, 4]\n",
    "sorted_list = lis2.sort()\n",
    "print(\"The second largest number in a given list of integers is: \", lis2[-2])\n"
   ]
  },
  {
   "cell_type": "code",
   "execution_count": 23,
   "id": "56deb603",
   "metadata": {},
   "outputs": [
    {
     "name": "stdout",
     "output_type": "stream",
     "text": [
      "{1: 2, 3: 1, 2: 3, 5: 2, 8: 1}\n"
     ]
    }
   ],
   "source": [
    "# 13 Create a code to count the occurrences of each element in a list and return a dictionary with elements as their keys and their counts as values\n",
    "\n",
    "lis3 = [1, 3, 2, 2, 5, 5, 2, 8, 1]\n",
    "counts = {}\n",
    "for element in lis3:\n",
    "    if element in counts:\n",
    "        counts[element] += 1\n",
    "    else:\n",
    "        counts[element] = 1\n",
    "\n",
    "print(counts)"
   ]
  },
  {
   "cell_type": "code",
   "execution_count": 25,
   "id": "e2298272",
   "metadata": {},
   "outputs": [
    {
     "name": "stdout",
     "output_type": "stream",
     "text": [
      "[7, 6, 5, 4, 3, 2, 1]\n"
     ]
    }
   ],
   "source": [
    "# 14. Write a code to reverse a list in place without using any built-in reverse functions\n",
    "\n",
    "lis14 = [1, 2, 3, 4, 5, 6, 7]\n",
    "start = 0\n",
    "end = len(lis14) - 1\n",
    "while start < end:\n",
    "    lis14[start], lis14[end] = lis14[end], lis14[start]\n",
    "    start += 1\n",
    "    end -= 1\n",
    "\n",
    "print(lis14)"
   ]
  },
  {
   "cell_type": "code",
   "execution_count": 30,
   "id": "c5886d19",
   "metadata": {},
   "outputs": [
    {
     "name": "stdout",
     "output_type": "stream",
     "text": [
      "[1, 2, 3, 4, 6, 7]\n"
     ]
    }
   ],
   "source": [
    "# 15. Implement a code to find and remove duplicates from a list while preserving the original order of elements\n",
    "\n",
    "lis15 = [1, 2, 2, 3, 4, 2, 4, 6, 4, 7, 6,]\n",
    "iterated = {}\n",
    "result = []\n",
    "for element in lis15:\n",
    "    if element not in iterated:\n",
    "        iterated[element] = True\n",
    "        result.append(element)\n",
    "\n",
    "print(result)"
   ]
  },
  {
   "cell_type": "code",
   "execution_count": 39,
   "id": "8df69206",
   "metadata": {},
   "outputs": [
    {
     "name": "stdout",
     "output_type": "stream",
     "text": [
      "The given list is not in either ascending or descending order\n"
     ]
    }
   ],
   "source": [
    "# 16. Create a code to check whether the given list is sorted in ascending or descending order or not\n",
    "\n",
    "lis16 = [3, 2, 1, 5, 4, 7, 9]\n",
    "\n",
    "is_ascending = True\n",
    "is_descending = True\n",
    "for i in range(len(lis16) - 1):\n",
    "    if lis16[i] > lis16[i + 1]:\n",
    "        is_ascending = False\n",
    "    elif lis16[i] < lis16[i + 1]:\n",
    "        is_descending = False\n",
    "\n",
    "if is_ascending and not is_descending:\n",
    "    print(\"The given list is sorted in ascending order\")\n",
    "elif is_descending and not is_ascending:\n",
    "    print(\"The given list is sorted in descending order\")\n",
    "else:\n",
    "    print(\"The given list is not in either ascending or descending order\")\n"
   ]
  },
  {
   "cell_type": "code",
   "execution_count": 42,
   "id": "8d1b9356",
   "metadata": {},
   "outputs": [
    {
     "name": "stdout",
     "output_type": "stream",
     "text": [
      "[1, 2, 3, 4, 5, 6, 7, 8, 9, 10]\n",
      "[1, 2, 3, 4, 5, 6, 7, 8, 9, 10]\n"
     ]
    }
   ],
   "source": [
    "# 17. Write a code to merge a two sorted lists into a single sorted list\n",
    "\n",
    "\n",
    "list1 = [1, 3, 5, 7, 9]\n",
    "list2 = [2, 4, 6, 8, 10]\n",
    "\n",
    "merged_list = sorted(list1+list2)\n",
    "print(merged_list)\n",
    "\n",
    "\n",
    "# OR\n",
    "\n",
    "\n",
    "list1 = [1, 3, 5, 7, 9]\n",
    "list2 = [2, 4, 6, 8, 10]\n",
    "\n",
    "merged_list = []\n",
    "i = 0\n",
    "j = 0\n",
    "\n",
    "while i < len(list1) and j < len(list2):\n",
    "    if list1[i] < list2[j]:\n",
    "        merged_list.append(list1[i])\n",
    "        i += 1\n",
    "    else:\n",
    "        merged_list.append(list2[j])\n",
    "        j += 1\n",
    "\n",
    "while i < len(list1):\n",
    "    merged_list.append(list1[i])\n",
    "    i += 1\n",
    "    \n",
    "while j < len(list2):\n",
    "    merged_list.append(list2[j])\n",
    "    j += 1\n",
    "    \n",
    "print(merged_list)"
   ]
  },
  {
   "cell_type": "code",
   "execution_count": 48,
   "id": "aef2c597",
   "metadata": {},
   "outputs": [
    {
     "name": "stdout",
     "output_type": "stream",
     "text": [
      "{3, 4, 5}\n"
     ]
    }
   ],
   "source": [
    "# 18. Implement a code to find the intersection of two given lists\n",
    "\n",
    "lis1 = [1, 2, 3, 4, 5]\n",
    "lis2 = [3, 4, 5]\n",
    "\n",
    "set1 = set(lis1)\n",
    "set2 = set(lis2)\n",
    "\n",
    "print(set1 & set2)"
   ]
  },
  {
   "cell_type": "code",
   "execution_count": 51,
   "id": "f44d5207",
   "metadata": {},
   "outputs": [
    {
     "name": "stdout",
     "output_type": "stream",
     "text": [
      "{1, 2, 3, 4, 5}\n"
     ]
    }
   ],
   "source": [
    "# 19. Create a code to find the union of two lists without duplicates\n",
    "\n",
    "lis1 = [1, 2, 3, 2, 4, 4, 5]\n",
    "lis2 = [3, 4, 2, 4, 3, 5]\n",
    "\n",
    "set1 = set(lis1)\n",
    "set2 = set(lis2)\n",
    "\n",
    "print(set1 | set2)\n"
   ]
  },
  {
   "cell_type": "code",
   "execution_count": 61,
   "id": "5a7dff8e",
   "metadata": {},
   "outputs": [
    {
     "name": "stdout",
     "output_type": "stream",
     "text": [
      "[2, 1, 6, 5, 4, 3]\n"
     ]
    }
   ],
   "source": [
    "# 20. Write a code to shuffle a given list randomly without using any built in shuffle functions\n",
    "\n",
    "lis20 = [1, 2, 3, 4, 5 , 6]\n",
    "length = len(lis20)\n",
    "\n",
    "for i in range(length):\n",
    "    index1 = i  \n",
    "    index2 = (i + 1 + hash(i)) % length  \n",
    "    lis20[index1], lis20[index2] = lis20[index2], lis20[index1]\n",
    "\n",
    "print(lis20)\n"
   ]
  },
  {
   "cell_type": "code",
   "execution_count": 66,
   "id": "dd049b12",
   "metadata": {
    "scrolled": true
   },
   "outputs": [
    {
     "name": "stdout",
     "output_type": "stream",
     "text": [
      "Enter the tuple 1: 1 2 3 4 5 6\n",
      "Enter the tuple 2: 4 5 6\n",
      "{'4', '5', '6'}\n"
     ]
    }
   ],
   "source": [
    "# 21. Write a code that takes two tuples as input and returns a new tuple containing elements that are common to both input tuples\n",
    "\n",
    "\n",
    "tup1 = tuple(input(\"Enter the tuple 1: \").split())\n",
    "tup2 = tuple(input(\"Enter the tuple 2: \").split())\n",
    "\n",
    "set1 = set(tup1)\n",
    "set2 = set(tup2)\n",
    "print(set1.intersection(set2))\n"
   ]
  },
  {
   "cell_type": "code",
   "execution_count": 69,
   "id": "3b0a651b",
   "metadata": {},
   "outputs": [
    {
     "name": "stdout",
     "output_type": "stream",
     "text": [
      "Enter the set 1: 1 2 3 4 5 6\n",
      "Enter the set 2: 4 5 6\n",
      "Intersection of the two sets: {'4', '5', '6'}\n"
     ]
    }
   ],
   "source": [
    "# 22. Create a code that prompts the user to enter two sets of integers separated by commas. Then print the intersection of these two sets\n",
    "\n",
    "set1 = input(\"Enter the set 1: \").split()\n",
    "set2 = input(\"Enter the set 2: \").split()\n",
    "\n",
    "intersection_set = set(set1) & set(set2)\n",
    "\n",
    "print(\"Intersection of the two sets:\", intersection_set)\n"
   ]
  },
  {
   "cell_type": "code",
   "execution_count": 74,
   "id": "16dcde90",
   "metadata": {},
   "outputs": [
    {
     "name": "stdout",
     "output_type": "stream",
     "text": [
      "Enter the tuple 1: 1 \"Jems\" 2 3 \"Shahare\" \n",
      "Enter the tuple 2: 1 2 7 8 \"Yash\" \"Sharma\"\n",
      "The concatenated tuple is ('1', '\"Jems\"', '2', '3', '\"Shahare\"', '1', '2', '7', '8', '\"Yash\"', '\"Sharma\"')\n"
     ]
    }
   ],
   "source": [
    "# 23. Write a code to concatenate two tuples. The function should take two tuples as input and return a new tuple containing elements from both input tuples\n",
    "\n",
    "tuple1_input = input(\"Enter the tuple 1: \")\n",
    "tuple2_input = input(\"Enter the tuple 2: \")\n",
    "\n",
    "tuple1_elements = tuple1_input.split()\n",
    "tuple2_elements = tuple2_input.split()\n",
    "\n",
    "tuple1 = tuple(tuple1_elements)\n",
    "tuple2 = tuple(tuple2_elements)\n",
    "\n",
    "concatenated_tuple = tuple1 + tuple2\n",
    "\n",
    "print(\"The concatenated tuple is\", concatenated_tuple)\n"
   ]
  },
  {
   "cell_type": "code",
   "execution_count": 76,
   "id": "5af14dbf",
   "metadata": {},
   "outputs": [
    {
     "name": "stdout",
     "output_type": "stream",
     "text": [
      "Enter the first set of strings: \"jems\" \"Shahare\" \"Bhagwandas\"\n",
      "Enter the second set of strings: \"Jems\" \"Shahare\"\n",
      "{'\"Bhagwandas\"', '\"jems\"'}\n"
     ]
    }
   ],
   "source": [
    "# 24. Develop a code that prompts the user to input two sets of strings. Then print the elements that are present in the first set but not in the second set\n",
    "\n",
    "set_1 = input(\"Enter the first set of strings: \")\n",
    "set_2 = input(\"Enter the second set of strings: \")\n",
    "\n",
    "set1 = set(set_1.split(' '))\n",
    "set2 = set(set_2.split(' '))\n",
    "\n",
    "difference_set = set1 - set2\n",
    "print(difference_set)\n",
    "\n"
   ]
  },
  {
   "cell_type": "code",
   "execution_count": 80,
   "id": "f9740680",
   "metadata": {},
   "outputs": [
    {
     "name": "stdout",
     "output_type": "stream",
     "text": [
      "Enter the tuple: 1 2 3 4 5 6\n",
      "Enter integer 1: 0 \n",
      "Enter integer 2: 3\n",
      "('1', '2', '3')\n"
     ]
    }
   ],
   "source": [
    "# 25. Create a code that takes a tuple and two integers as input. The function should return a new tuple containing elemnts from the original tuple within the specified range of indices\n",
    "\n",
    "tuple_input = tuple(input(\"Enter the tuple: \").split())\n",
    "i = int(input(\"Enter integer 1: \"))\n",
    "j = int(input(\"Enter integer 2: \"))\n",
    "\n",
    "print(tuple_input[i:j])\n"
   ]
  },
  {
   "cell_type": "code",
   "execution_count": 85,
   "id": "e9d050bc",
   "metadata": {},
   "outputs": [
    {
     "name": "stdout",
     "output_type": "stream",
     "text": [
      "Enter the set 1: 'a' 'b' 'c' 'd' 'e' 'f'\n",
      "Enter the set 2: 'g' 'h' 'i' 'a' 'b' 'c'\n",
      "{\"'e'\", \"'f'\", \"'b'\", \"'i'\", \"'g'\", \"'c'\", \"'a'\", \"'d'\", \"'h'\"}\n"
     ]
    }
   ],
   "source": [
    "# 26. Write a code that prompts the user to input two sets of characters. Then print the union of these two sets\n",
    "\n",
    "set_1 = set(input(\"Enter the set 1: \").split())\n",
    "set_2 = set(input(\"Enter the set 2: \").split())\n",
    "\n",
    "print(set_1 | set_2)\n"
   ]
  },
  {
   "cell_type": "code",
   "execution_count": 91,
   "id": "79540661",
   "metadata": {},
   "outputs": [
    {
     "name": "stdout",
     "output_type": "stream",
     "text": [
      "Enter the tuple: 1 2 3 10 0\n",
      "The maximum value is  3\n",
      "The minimum value is  0\n"
     ]
    }
   ],
   "source": [
    "# 27. Develop a code that takes a tuple of integers as input. The function should return the maximum and minimum values from the tuple using the tuple unpacking\n",
    "\n",
    "\n",
    "tuple_27 = tuple(map(int, input(\"Enter the tuple: \").split()))\n",
    "max_value = max(tuple_27)\n",
    "min_value = min(tuple_27)\n",
    "\n",
    "print(\"The maximum value is\", max_value)\n",
    "print(\"The minimum value is\", min_value)"
   ]
  },
  {
   "cell_type": "code",
   "execution_count": 93,
   "id": "33f0e49d",
   "metadata": {},
   "outputs": [
    {
     "name": "stdout",
     "output_type": "stream",
     "text": [
      "Enter the first set of integers: 1 2 3 4 5 6 7 8 9\n",
      "Enter the second set of integers: 4 5 6 9\n",
      "The union of these two sets is  {'1', '4', '8', '6', '9', '3', '5', '2', '7'}\n",
      "The intersection of these two sets is  {'4', '6', '5', '9'}\n",
      "The difference of these two sets is  {'1', '8', '3', '2', '7'}\n"
     ]
    }
   ],
   "source": [
    "# 28. Create a code that defines two sets of integers. Then, print the union, intersection and difference of these two sets\n",
    "\n",
    "set_1 = input(\"Enter the first set of integers: \")\n",
    "set_2 = input(\"Enter the second set of integers: \")\n",
    "\n",
    "set1 = set(set_1.split(' '))\n",
    "set2 = set(set_2.split(' '))\n",
    "\n",
    "print(\"The union of these two sets is \", set1 | set2)\n",
    "print(\"The intersection of these two sets is \", set1 & set2)\n",
    "print(\"The difference of these two sets is \", set1 - set2)\n",
    "\n"
   ]
  },
  {
   "cell_type": "code",
   "execution_count": 96,
   "id": "3c787ac5",
   "metadata": {},
   "outputs": [
    {
     "name": "stdout",
     "output_type": "stream",
     "text": [
      "Enter a tuple: 1 2 3 4 5 6 6 6 4\n",
      "Enter an element: 6\n",
      "3\n"
     ]
    }
   ],
   "source": [
    "# 29. Write a code that takes a tuple and an element as input. The function should return the count of occurrences of the given element in the tuple\n",
    "\n",
    "tuple_29 = tuple(map(int, input(\"Enter a tuple: \").split()))\n",
    "c = int(input(\"Enter an element: \"))\n",
    "print(tuple_29.count(c))"
   ]
  },
  {
   "cell_type": "code",
   "execution_count": 97,
   "id": "453ef156",
   "metadata": {},
   "outputs": [
    {
     "name": "stdout",
     "output_type": "stream",
     "text": [
      "Enter the first set of strings:  \"jems\" \"Shahare\" \"bhagwandas\"\n",
      "Enter the second set of strings: \"jems\" \"bhagwandas\" \"anirudha\"\n",
      "Symmetric difference of the two sets: {'\"anirudha\"', '\"Shahare\"'}\n"
     ]
    }
   ],
   "source": [
    "# 30. Develop a code that prompts the user to input two sets of strings. Then print the symmetric difference of these two sets\n",
    "\n",
    "set1_input = input(\"Enter the first set of strings:  \")\n",
    "set2_input = input(\"Enter the second set of strings: \")\n",
    "\n",
    "set1 = set(set1_input.split(' '))\n",
    "set2 = set(set2_input.split(' '))\n",
    "\n",
    "symmetric_difference_set = set1.symmetric_difference(set2)\n",
    "\n",
    "print(\"Symmetric difference of the two sets:\", symmetric_difference_set)\n",
    "\n"
   ]
  },
  {
   "cell_type": "code",
   "execution_count": 99,
   "id": "2b0b6d38",
   "metadata": {},
   "outputs": [
    {
     "name": "stdout",
     "output_type": "stream",
     "text": [
      "Enter a list of words: \"jems\" \"shahare\" \"anirudha\" \"bhagwandas\" \"ranu\" \"Minal\" \"jems\" \"Shahare\"\n",
      "{'\"jems\"': 2, '\"shahare\"': 1, '\"anirudha\"': 1, '\"bhagwandas\"': 1, '\"ranu\"': 1, '\"Minal\"': 1, '\"Shahare\"': 1}\n"
     ]
    }
   ],
   "source": [
    "# 31. Write a code that takes a list of words as input and returns a dictionary where the keys are unique words and values ae the frequencies of those words in the input list\n",
    "\n",
    "word_list = input(\"Enter a list of words: \").split()\n",
    "frequency_dict = {}\n",
    "for word in word_list:\n",
    "    if word in frequency_dict:\n",
    "        frequency_dict[word] += 1\n",
    "    else:\n",
    "        frequency_dict[word] = 1\n",
    "\n",
    "print(frequency_dict)"
   ]
  },
  {
   "cell_type": "code",
   "execution_count": 2,
   "id": "dfe0b697",
   "metadata": {},
   "outputs": [
    {
     "name": "stdout",
     "output_type": "stream",
     "text": [
      "{'a': 1, 'b': 5, 'c': 7, 'd': 5}\n"
     ]
    }
   ],
   "source": [
    "# 32. Write a code that takes two dictionaries as input and merges them into a single dictionary. If there are common keys the values should be added together\n",
    "\n",
    "dict1 = {'a': 1, 'b': 2, 'c': 3}\n",
    "dict2 = {'b': 3, 'c': 4, 'd': 5}\n",
    "\n",
    "merged_dict = dict1.copy() \n",
    "\n",
    "for key, value in dict2.items():\n",
    "    if key in merged_dict:\n",
    "        merged_dict[key] += value\n",
    "    else:\n",
    "        merged_dict[key] = value\n",
    "\n",
    "print(merged_dict)"
   ]
  },
  {
   "cell_type": "code",
   "execution_count": 18,
   "id": "ba42b762",
   "metadata": {},
   "outputs": [
    {
     "name": "stdout",
     "output_type": "stream",
     "text": [
      "Value: 5\n"
     ]
    }
   ],
   "source": [
    "# 33. Write a code to access a value in a nested dictionary. The function should take the dictionary and a list of keys as input \n",
    "# and return the corresponding value. If any of the key doesn't exist in the dictionary, the function should return none.\n",
    "\n",
    "nested_dict = {'a': {'b': {'c': 5}}}\n",
    "keys = ['a', 'b', 'c']\n",
    "\n",
    "nested_value = nested_dict\n",
    "\n",
    "for key in keys:\n",
    "    if key in nested_value:\n",
    "        nested_value = nested_value[key]\n",
    "    else:\n",
    "        nested_value = None\n",
    "        break\n",
    "\n",
    "print(\"Value:\", nested_value)\n",
    "\n",
    "    "
   ]
  },
  {
   "cell_type": "code",
   "execution_count": 24,
   "id": "01e0b1ac",
   "metadata": {},
   "outputs": [
    {
     "name": "stdout",
     "output_type": "stream",
     "text": [
      "Sorted dictionary (ascending): {'b': 1, 'c': 2, 'a': 3}\n",
      "Sorted dictionary (descending): {'a': 3, 'c': 2, 'b': 1}\n"
     ]
    }
   ],
   "source": [
    "# 34. Write a code that takes a dictionary as input and returns a sorted version of it based on the values. You can choose whether\n",
    "# to sort in ascending or descending order\n",
    "\n",
    "input_dict = {'a': 3, 'b': 1, 'c': 2}\n",
    "\n",
    "sorted_dict_asc = dict(sorted(input_dict.items(), key=lambda item: item[1]))\n",
    "\n",
    "sorted_dict_desc = dict(sorted(input_dict.items(), key=lambda item: item[1], reverse=True))\n",
    "\n",
    "print(\"Sorted dictionary (ascending):\", sorted_dict_asc)\n",
    "print(\"Sorted dictionary (descending):\", sorted_dict_desc)\n"
   ]
  },
  {
   "cell_type": "code",
   "execution_count": 29,
   "id": "aaa49d32",
   "metadata": {},
   "outputs": [
    {
     "name": "stdout",
     "output_type": "stream",
     "text": [
      "Inverted dictionary: {1: ['a', 'c'], 2: ['b'], 3: ['d']}\n"
     ]
    }
   ],
   "source": [
    "# 35. Write a code that inverts a dictionary, swapping keys and values. Ensure that the inverted dictionary correctly handles cases\n",
    "# where multiple keys have the same value by storing the keys as a list in the inverted dictionary\n",
    "\n",
    "dictionary = {'a': 1, 'b': 2, 'c': 1, 'd': 3}\n",
    "\n",
    "inverted_dict = {}\n",
    "for key, value in dictionary.items():\n",
    "    if value in inverted_dict:\n",
    "        inverted_dict[value].append(key)\n",
    "    else:\n",
    "        inverted_dict[value] = [key]\n",
    "\n",
    "print(\"Inverted dictionary:\", inverted_dict)\n"
   ]
  },
  {
   "cell_type": "code",
   "execution_count": null,
   "id": "d4f8f88c",
   "metadata": {},
   "outputs": [],
   "source": []
  }
 ],
 "metadata": {
  "kernelspec": {
   "display_name": "Python 3 (ipykernel)",
   "language": "python",
   "name": "python3"
  },
  "language_info": {
   "codemirror_mode": {
    "name": "ipython",
    "version": 3
   },
   "file_extension": ".py",
   "mimetype": "text/x-python",
   "name": "python",
   "nbconvert_exporter": "python",
   "pygments_lexer": "ipython3",
   "version": "3.9.13"
  }
 },
 "nbformat": 4,
 "nbformat_minor": 5
}
